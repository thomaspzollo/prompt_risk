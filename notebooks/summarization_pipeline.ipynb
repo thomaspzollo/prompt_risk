{
 "cells": [
  {
   "cell_type": "code",
   "execution_count": 1,
   "id": "372cae22-d4e9-4272-8cc7-0b50f6a6d8b1",
   "metadata": {},
   "outputs": [
    {
     "name": "stderr",
     "output_type": "stream",
     "text": [
      "/opt/conda/envs/prompt_risk/lib/python3.10/site-packages/tqdm/auto.py:21: TqdmWarning: IProgress not found. Please update jupyter and ipywidgets. See https://ipywidgets.readthedocs.io/en/stable/user_install.html\n",
      "  from .autonotebook import tqdm as notebook_tqdm\n"
     ]
    }
   ],
   "source": [
    "from datasets import load_dataset\n",
    "from torch.utils.data import DataLoader\n",
    "from transformers import pipeline\n",
    "from transformers import AutoModelForSeq2SeqLM, AutoTokenizer\n",
    "from detoxify import Detoxify\n",
    "import torch\n",
    "import scipy\n",
    "import numpy as np\n",
    "import matplotlib.pyplot as plt\n",
    "import crossprob\n",
    "from tqdm import tqdm\n",
    "import random\n",
    "from matplotlib.ticker import FormatStrFormatter\n",
    "\n",
    "import os\n",
    "os.environ[\"TOKENIZERS_PARALLELISM\"] = \"false\"\n",
    "\n",
    "from matplotlib import style\n",
    "plt.style.use('seaborn-v0_8')"
   ]
  },
  {
   "cell_type": "code",
   "execution_count": 2,
   "id": "75075356-d131-4bee-b4fb-c687cb1b8a43",
   "metadata": {},
   "outputs": [],
   "source": [
    "def get_bound(n, c, *, k=0):\n",
    "    i = np.arange(1, n + 1)\n",
    "    b = scipy.special.betaincinv(i, n - i + 1, c)\n",
    "    b[:k] = 0.0\n",
    "    return b\n",
    "\n",
    "def berk_jones_bound(n, delta, *, k=0):\n",
    "    def f(c):\n",
    "        return crossprob.ecdf1_new_b(get_bound(n, c, k=k)) - (1 - delta)\n",
    "    \n",
    "    return get_bound(n, scipy.optimize.bisect(f, 0.0, 1.0), k=k)\n",
    "\n",
    "def ecdf(xs, data):\n",
    "    return np.mean(np.expand_dims(data, -1) <= xs, -2)\n",
    "\n",
    "def integrate_quantiles(X, b, beta_min=0.0, beta_max=1.0):\n",
    "    dist_max = 1.0\n",
    "    X_sorted = np.sort(X, axis=-1)\n",
    "    b_lower = np.concatenate([np.zeros(1), b], -1)\n",
    "    b_upper = np.concatenate([b, np.ones(1)], -1)\n",
    "    \n",
    "    # clip bounds to [beta_min, 1]\n",
    "    b_lower = np.maximum(b_lower, beta_min)\n",
    "    b_upper = np.maximum(b_upper, b_lower)\n",
    "    \n",
    "    # clip bounds to [0, beta_max]\n",
    "    b_upper = np.minimum(b_upper, beta_max)\n",
    "    b_lower = np.minimum(b_upper, b_lower)\n",
    "\n",
    "    heights = b_upper - b_lower\n",
    "    widths = np.concatenate([X_sorted, np.full((X_sorted.shape[0], 1), dist_max)], -1)\n",
    "    return np.sum(heights * widths, -1) / (beta_max - beta_min)"
   ]
  },
  {
   "cell_type": "code",
   "execution_count": 3,
   "id": "845b0aa1-350b-47e5-aae5-f64ef45a4240",
   "metadata": {},
   "outputs": [],
   "source": [
    "instructions = [\n",
    "    \"Generate a concise summary that captures the main points of the given text.\",\n",
    "    \"Summarize the content while maintaining its original context and key details.\",\n",
    "    \"Create a brief summary that effectively conveys the central theme and important information.\",\n",
    "    \"Craft a summary that is clear, coherent, and provides a condensed version of the text.\",\n",
    "    \"Summarize the text in a way that is informative and easy for readers to understand.\",\n",
    "    \"Generate a summary that highlights the most significant aspects of the text.\",\n",
    "    \"Create a summary that retains the essential ideas while reducing the overall length.\",\n",
    "    \"Summarize the text while preserving the logical flow and logical connections between ideas.\",\n",
    "    \"Craft a concise summary that captures the core concepts and avoids unnecessary details.\",\n",
    "    \"Generate a summary that offers a quick overview of the main points covered in the text.\"\n",
    "    \"Generate a concise summary while preserving the key details and main ideas.\",\n",
    "    \"Summarize the content into a short, coherent passage that captures the essence of the text.\",\n",
    "    \"Craft a summary that distills the main points while maintaining the original context.\",\n",
    "    \"Create a brief summary that effectively communicates the central theme and important information.\",\n",
    "    \"Summarize the text in a way that conveys its core concepts and essential takeaways.\",\n",
    "    \"Generate a summary that highlights the most significant aspects of the text, avoiding unnecessary details.\",\n",
    "    \"Craft a concise summary that captures the essential ideas and logical flow of the content.\",\n",
    "    \"Summarize the text while maintaining logical connections between ideas for clarity.\",\n",
    "    \"Create a summary that provides a clear overview of the text's main arguments and conclusions.\",\n",
    "    \"Generate a summary that concisely conveys the author's main message and supporting points.\",\n",
    "    \"Craft a coherent summary that presents the main ideas succinctly and accurately.\",\n",
    "    \"Summarize the text by condensing the content into a brief and informative passage.\",\n",
    "    \"Create a summary that captures the author's key insights, opinions, and evidence.\",\n",
    "    \"Generate a concise summary that offers a comprehensive view of the text's content.\",\n",
    "    \"Craft a summary that effectively communicates the text's purpose, main points, and implications.\",\n",
    "    \"Summarize the text by identifying and summarizing the major sections or topics.\",\n",
    "    \"Create a clear and concise summary that avoids unnecessary repetition.\",\n",
    "    \"Generate a summary that provides readers with an understanding of the text's main themes.\",\n",
    "    \"Craft a summary that emphasizes the most relevant details and overarching narrative.\",\n",
    "    \"Summarize the text by selecting the most crucial information and insights.\",\n",
    "    \"Create a summary that captures the text's essence while ensuring readability and coherence.\",\n",
    "    \"Generate a summary that condenses the text's content without altering its intended meaning.\",\n",
    "    \"Craft a summary that represents the text's main points while maintaining its original tone.\",\n",
    "    \"Summarize the text in a way that presents a balanced view of different perspectives, if applicable.\",\n",
    "    \"Create a concise summary that succinctly conveys the text's significance and implications.\",\n",
    "    \"Generate a summary that avoids personal bias and focuses on the objective content.\",\n",
    "    \"Craft a summary that provides a clear overview of the text's structure and content flow.\",\n",
    "    \"Summarize the text by identifying the primary goals, outcomes, or conclusions.\",\n",
    "    \"Create a summary that captures the text's essential takeaways, making it accessible to readers.\",\n",
    "    \"Generate a concise summary that effectively communicates the text's core message and insights.\",\n",
    "    \"Craft a summary that highlights the text's relevance, significance, and potential impact.\"\n",
    "]"
   ]
  },
  {
   "cell_type": "code",
   "execution_count": 4,
   "id": "6e358402-00e3-42bc-b392-906fb37842da",
   "metadata": {},
   "outputs": [],
   "source": [
    "device = \"cuda:2\"\n",
    "delta = 0.05\n",
    "pal = plt.rcParams['axes.prop_cycle'].by_key()['color']\n",
    "random_seed = 42\n",
    "batch_size=32\n",
    "n_total=1000"
   ]
  },
  {
   "cell_type": "code",
   "execution_count": 5,
   "id": "198d9776-50cb-417c-9dc0-f54445f622b6",
   "metadata": {},
   "outputs": [],
   "source": [
    "random.seed(random_seed)\n",
    "torch.manual_seed(random_seed)\n",
    "np.random.seed(random_seed)"
   ]
  },
  {
   "cell_type": "code",
   "execution_count": 6,
   "id": "88c6051b-5ca9-42eb-846e-223427d45f8b",
   "metadata": {},
   "outputs": [
    {
     "name": "stdout",
     "output_type": "stream",
     "text": [
      "chat model loaded\n"
     ]
    }
   ],
   "source": [
    "chat_model = AutoModelForSeq2SeqLM.from_pretrained(\"google/flan-t5-base\").to(device)\n",
    "chat_tokenizer = AutoTokenizer.from_pretrained(\"google/flan-t5-base\")\n",
    "chat_model.eval()\n",
    "print(\"chat model loaded\")"
   ]
  },
  {
   "cell_type": "code",
   "execution_count": 7,
   "id": "367f23de-005a-479e-8afc-fc7a15eedf9e",
   "metadata": {},
   "outputs": [],
   "source": [
    "import evaluate\n",
    "\n",
    "bleu = evaluate.load(\"bleu\")\n",
    "bertscore = evaluate.load(\"bertscore\")"
   ]
  },
  {
   "cell_type": "code",
   "execution_count": 8,
   "id": "d6625750-f0e7-4e42-983f-d5d294a2b9da",
   "metadata": {},
   "outputs": [],
   "source": [
    "res = []"
   ]
  },
  {
   "cell_type": "code",
   "execution_count": 9,
   "id": "a4fd8d4e-8bf0-4b34-9d2e-eab5570e1ae5",
   "metadata": {},
   "outputs": [
    {
     "name": "stderr",
     "output_type": "stream",
     "text": [
      "Map: 100%|████████████████████████████████████| 11334/11334 [00:00<00:00, 96302.80 examples/s]\n",
      "Warning: Empty candidate sentence detected; setting raw BERTscores to 0.\n"
     ]
    },
    {
     "name": "stdout",
     "output_type": "stream",
     "text": [
      "Instruction: Generate a concise summary that captures the main points of the given text.\n",
      "X (1024,)\n",
      "[0.14838862 0.09283537 0.11385715 ... 0.11750734 0.10129523 0.0451684 ]\n",
      "\n"
     ]
    },
    {
     "name": "stderr",
     "output_type": "stream",
     "text": [
      "Map: 100%|████████████████████████████████████| 11334/11334 [00:00<00:00, 95215.50 examples/s]\n",
      "Warning: Empty candidate sentence detected; setting raw BERTscores to 0.\n"
     ]
    },
    {
     "name": "stdout",
     "output_type": "stream",
     "text": [
      "Instruction: Summarize the content while maintaining its original context and key details.\n",
      "X (1024,)\n",
      "[0.13959187 0.11066103 0.11385727 ... 0.11750734 0.09819472 0.03758496]\n",
      "\n"
     ]
    },
    {
     "name": "stderr",
     "output_type": "stream",
     "text": [
      "Map: 100%|████████████████████████████████████| 11334/11334 [00:00<00:00, 92857.56 examples/s]\n",
      "Warning: Empty candidate sentence detected; setting raw BERTscores to 0.\n"
     ]
    },
    {
     "name": "stdout",
     "output_type": "stream",
     "text": [
      "Instruction: Create a brief summary that effectively conveys the central theme and important information.\n",
      "X (1024,)\n",
      "[0.13959163 0.11066103 0.11385715 ... 0.11750734 0.10129511 0.03215915]\n",
      "\n"
     ]
    },
    {
     "name": "stderr",
     "output_type": "stream",
     "text": [
      "Map: 100%|████████████████████████████████████| 11334/11334 [00:00<00:00, 94248.23 examples/s]\n",
      "Warning: Empty candidate sentence detected; setting raw BERTscores to 0.\n"
     ]
    },
    {
     "name": "stdout",
     "output_type": "stream",
     "text": [
      "Instruction: Craft a summary that is clear, coherent, and provides a condensed version of the text.\n",
      "X (1024,)\n",
      "[0.13959163 0.11066103 0.11046946 ... 0.11750734 0.09819466 0.03758508]\n",
      "\n"
     ]
    },
    {
     "name": "stderr",
     "output_type": "stream",
     "text": [
      "Map: 100%|████████████████████████████████████| 11334/11334 [00:00<00:00, 96039.57 examples/s]\n"
     ]
    },
    {
     "name": "stdout",
     "output_type": "stream",
     "text": [
      "Instruction: Summarize the text in a way that is informative and easy for readers to understand.\n",
      "X (1024,)\n",
      "[0.13959169 0.1056143  0.1104694  ... 0.11750734 0.10843951 0.04516828]\n",
      "\n"
     ]
    },
    {
     "name": "stderr",
     "output_type": "stream",
     "text": [
      "Map: 100%|████████████████████████████████████| 11334/11334 [00:00<00:00, 94387.08 examples/s]\n",
      "Warning: Empty candidate sentence detected; setting raw BERTscores to 0.\n"
     ]
    },
    {
     "name": "stdout",
     "output_type": "stream",
     "text": [
      "Instruction: Generate a summary that highlights the most significant aspects of the text.\n",
      "X (1024,)\n",
      "[0.13959163 0.10561419 0.11046946 ... 0.11750734 0.09804714 0.03758508]\n",
      "\n"
     ]
    },
    {
     "name": "stderr",
     "output_type": "stream",
     "text": [
      "Map: 100%|████████████████████████████████████| 11334/11334 [00:00<00:00, 93450.63 examples/s]\n",
      "Warning: Empty candidate sentence detected; setting raw BERTscores to 0.\n"
     ]
    },
    {
     "name": "stdout",
     "output_type": "stream",
     "text": [
      "Instruction: Create a summary that retains the essential ideas while reducing the overall length.\n",
      "X (1024,)\n",
      "[0.14838862 0.10561419 0.11046946 ... 0.11750734 0.10853487 0.09348273]\n",
      "\n"
     ]
    },
    {
     "name": "stderr",
     "output_type": "stream",
     "text": [
      "Map: 100%|████████████████████████████████████| 11334/11334 [00:00<00:00, 95150.51 examples/s]\n",
      "Warning: Empty candidate sentence detected; setting raw BERTscores to 0.\n"
     ]
    },
    {
     "name": "stdout",
     "output_type": "stream",
     "text": [
      "Instruction: Summarize the text while preserving the logical flow and logical connections between ideas.\n",
      "X (1024,)\n",
      "[0.13959163 0.11066103 0.11046946 ... 0.11750734 0.10843951 0.04516846]\n",
      "\n"
     ]
    },
    {
     "name": "stderr",
     "output_type": "stream",
     "text": [
      "Map: 100%|████████████████████████████████████| 11334/11334 [00:00<00:00, 96701.65 examples/s]\n",
      "Warning: Empty candidate sentence detected; setting raw BERTscores to 0.\n"
     ]
    },
    {
     "name": "stdout",
     "output_type": "stream",
     "text": [
      "Instruction: Craft a concise summary that captures the core concepts and avoids unnecessary details.\n",
      "X (1024,)\n",
      "[0.14838862 0.11066103 0.11385715 ... 0.11750734 0.10853487 0.03215915]\n",
      "\n"
     ]
    },
    {
     "name": "stderr",
     "output_type": "stream",
     "text": [
      "Map: 100%|████████████████████████████████████| 11334/11334 [00:00<00:00, 94877.05 examples/s]\n",
      "Warning: Empty candidate sentence detected; setting raw BERTscores to 0.\n"
     ]
    },
    {
     "name": "stdout",
     "output_type": "stream",
     "text": [
      "Instruction: Generate a summary that offers a quick overview of the main points covered in the text.Generate a concise summary while preserving the key details and main ideas.\n",
      "X (1024,)\n",
      "[0.14838862 0.10561419 0.11046946 ... 0.11750734 0.09804714 0.04516846]\n",
      "\n"
     ]
    },
    {
     "name": "stderr",
     "output_type": "stream",
     "text": [
      "Map: 100%|████████████████████████████████████| 11334/11334 [00:00<00:00, 96062.47 examples/s]\n"
     ]
    },
    {
     "name": "stdout",
     "output_type": "stream",
     "text": [
      "Instruction: Summarize the content into a short, coherent passage that captures the essence of the text.\n",
      "X (1024,)\n",
      "[0.10732913 0.1068455  0.11046946 ... 0.11460459 0.11804247 0.09940398]\n",
      "\n"
     ]
    },
    {
     "name": "stderr",
     "output_type": "stream",
     "text": [
      "Map: 100%|████████████████████████████████████| 11334/11334 [00:00<00:00, 97258.58 examples/s]\n",
      "Warning: Empty candidate sentence detected; setting raw BERTscores to 0.\n"
     ]
    },
    {
     "name": "stdout",
     "output_type": "stream",
     "text": [
      "Instruction: Craft a summary that distills the main points while maintaining the original context.\n",
      "X (1024,)\n",
      "[0.13959163 0.11066103 0.11385721 ... 0.11750734 0.10129523 0.04516846]\n",
      "\n"
     ]
    },
    {
     "name": "stderr",
     "output_type": "stream",
     "text": [
      "Map: 100%|████████████████████████████████████| 11334/11334 [00:00<00:00, 97090.33 examples/s]\n",
      "Warning: Empty candidate sentence detected; setting raw BERTscores to 0.\n"
     ]
    },
    {
     "name": "stdout",
     "output_type": "stream",
     "text": [
      "Instruction: Create a brief summary that effectively communicates the central theme and important information.\n",
      "X (1024,)\n",
      "[0.13959163 0.11066103 0.11385715 ... 0.11750734 0.10129523 0.03215915]\n",
      "\n"
     ]
    },
    {
     "name": "stderr",
     "output_type": "stream",
     "text": [
      "Map: 100%|████████████████████████████████████| 11334/11334 [00:00<00:00, 94777.37 examples/s]\n",
      "Warning: Empty candidate sentence detected; setting raw BERTscores to 0.\n"
     ]
    },
    {
     "name": "stdout",
     "output_type": "stream",
     "text": [
      "Instruction: Summarize the text in a way that conveys its core concepts and essential takeaways.\n",
      "X (1024,)\n",
      "[0.13959163 0.1056143  0.11046946 ... 0.11750734 0.09703559 0.04516846]\n",
      "\n"
     ]
    },
    {
     "name": "stderr",
     "output_type": "stream",
     "text": [
      "Map: 100%|████████████████████████████████████| 11334/11334 [00:00<00:00, 97331.06 examples/s]\n",
      "Warning: Empty candidate sentence detected; setting raw BERTscores to 0.\n"
     ]
    },
    {
     "name": "stdout",
     "output_type": "stream",
     "text": [
      "Instruction: Generate a summary that highlights the most significant aspects of the text, avoiding unnecessary details.\n",
      "X (1024,)\n",
      "[0.14838862 0.10561419 0.11046946 ... 0.11750734 0.10915357 0.03758508]\n",
      "\n"
     ]
    },
    {
     "name": "stderr",
     "output_type": "stream",
     "text": [
      "Map: 100%|████████████████████████████████████| 11334/11334 [00:00<00:00, 95860.24 examples/s]\n",
      "Warning: Empty candidate sentence detected; setting raw BERTscores to 0.\n"
     ]
    },
    {
     "name": "stdout",
     "output_type": "stream",
     "text": [
      "Instruction: Craft a concise summary that captures the essential ideas and logical flow of the content.\n",
      "X (1024,)\n",
      "[0.13959163 0.11066103 0.11046946 ... 0.11750734 0.12237287 0.03215909]\n",
      "\n"
     ]
    },
    {
     "name": "stderr",
     "output_type": "stream",
     "text": [
      "Map: 100%|████████████████████████████████████| 11334/11334 [00:00<00:00, 97053.66 examples/s]\n",
      "Warning: Empty candidate sentence detected; setting raw BERTscores to 0.\n"
     ]
    },
    {
     "name": "stdout",
     "output_type": "stream",
     "text": [
      "Instruction: Summarize the text while maintaining logical connections between ideas for clarity.\n",
      "X (1024,)\n",
      "[0.09489679 0.11066103 0.11385715 ... 0.11750734 0.09819466 0.03758508]\n",
      "\n"
     ]
    },
    {
     "name": "stderr",
     "output_type": "stream",
     "text": [
      "Map: 100%|████████████████████████████████████| 11334/11334 [00:00<00:00, 97587.01 examples/s]\n"
     ]
    },
    {
     "name": "stdout",
     "output_type": "stream",
     "text": [
      "Instruction: Create a summary that provides a clear overview of the text's main arguments and conclusions.\n",
      "X (1024,)\n",
      "[0.14838862 0.11159003 0.11046946 ... 0.11750734 0.10915357 0.09348279]\n",
      "\n"
     ]
    },
    {
     "name": "stderr",
     "output_type": "stream",
     "text": [
      "Map: 100%|████████████████████████████████████| 11334/11334 [00:00<00:00, 95090.94 examples/s]\n",
      "Warning: Empty candidate sentence detected; setting raw BERTscores to 0.\n"
     ]
    },
    {
     "name": "stdout",
     "output_type": "stream",
     "text": [
      "Instruction: Generate a summary that concisely conveys the author's main message and supporting points.\n",
      "X (1024,)\n",
      "[0.14838862 0.10561419 0.11046946 ... 0.11750734 0.10915357 0.04516846]\n",
      "\n"
     ]
    },
    {
     "name": "stderr",
     "output_type": "stream",
     "text": [
      "Map: 100%|████████████████████████████████████| 11334/11334 [00:00<00:00, 94887.09 examples/s]\n",
      "Warning: Empty candidate sentence detected; setting raw BERTscores to 0.\n"
     ]
    },
    {
     "name": "stdout",
     "output_type": "stream",
     "text": [
      "Instruction: Craft a coherent summary that presents the main ideas succinctly and accurately.\n",
      "X (1024,)\n",
      "[0.13959163 0.11066103 0.11046946 ... 0.11750734 0.09782577 0.03758508]\n",
      "\n"
     ]
    },
    {
     "name": "stderr",
     "output_type": "stream",
     "text": [
      "Map: 100%|████████████████████████████████████| 11334/11334 [00:00<00:00, 96373.28 examples/s]\n"
     ]
    },
    {
     "name": "stdout",
     "output_type": "stream",
     "text": [
      "Instruction: Summarize the text by condensing the content into a brief and informative passage.\n",
      "X (1024,)\n",
      "[0.14909828 0.1068455  0.11717433 ... 0.11460453 0.11428487 0.09940398]\n",
      "\n"
     ]
    },
    {
     "name": "stderr",
     "output_type": "stream",
     "text": [
      "Map: 100%|████████████████████████████████████| 11334/11334 [00:00<00:00, 94999.53 examples/s]\n",
      "Warning: Empty candidate sentence detected; setting raw BERTscores to 0.\n"
     ]
    },
    {
     "name": "stdout",
     "output_type": "stream",
     "text": [
      "Instruction: Create a summary that captures the author's key insights, opinions, and evidence.\n",
      "X (1024,)\n",
      "[0.1270144  0.11066103 0.11046946 ... 0.11750734 0.10843945 0.03215915]\n",
      "\n"
     ]
    },
    {
     "name": "stderr",
     "output_type": "stream",
     "text": [
      "Map: 100%|████████████████████████████████████| 11334/11334 [00:00<00:00, 97189.98 examples/s]\n",
      "Warning: Empty candidate sentence detected; setting raw BERTscores to 0.\n"
     ]
    },
    {
     "name": "stdout",
     "output_type": "stream",
     "text": [
      "Instruction: Generate a concise summary that offers a comprehensive view of the text's content.\n",
      "X (1024,)\n",
      "[0.10305333 0.10561419 0.11046946 ... 0.11750734 0.11911297 0.03215915]\n",
      "\n"
     ]
    },
    {
     "name": "stderr",
     "output_type": "stream",
     "text": [
      "Map: 100%|████████████████████████████████████| 11334/11334 [00:00<00:00, 97151.84 examples/s]\n",
      "Warning: Empty candidate sentence detected; setting raw BERTscores to 0.\n"
     ]
    },
    {
     "name": "stdout",
     "output_type": "stream",
     "text": [
      "Instruction: Craft a summary that effectively communicates the text's purpose, main points, and implications.\n",
      "X (1024,)\n",
      "[0.13959163 0.12653607 0.11046946 ... 0.11750734 0.10915357 0.03758508]\n",
      "\n"
     ]
    },
    {
     "name": "stderr",
     "output_type": "stream",
     "text": [
      "Map: 100%|████████████████████████████████████| 11334/11334 [00:00<00:00, 94986.63 examples/s]\n"
     ]
    },
    {
     "name": "stdout",
     "output_type": "stream",
     "text": [
      "Instruction: Summarize the text by identifying and summarizing the major sections or topics.\n",
      "X (1024,)\n",
      "[0.10305333 0.12653607 0.11385715 ... 0.11750734 0.09782583 0.0451684 ]\n",
      "\n"
     ]
    },
    {
     "name": "stderr",
     "output_type": "stream",
     "text": [
      "Map: 100%|████████████████████████████████████| 11334/11334 [00:00<00:00, 96338.52 examples/s]\n",
      "Warning: Empty candidate sentence detected; setting raw BERTscores to 0.\n"
     ]
    },
    {
     "name": "stdout",
     "output_type": "stream",
     "text": [
      "Instruction: Create a clear and concise summary that avoids unnecessary repetition.\n",
      "X (1024,)\n",
      "[0.14838862 0.12653607 0.11385715 ... 0.11750734 0.09962213 0.03215909]\n",
      "\n"
     ]
    },
    {
     "name": "stderr",
     "output_type": "stream",
     "text": [
      "Map: 100%|████████████████████████████████████| 11334/11334 [00:00<00:00, 97288.43 examples/s]\n"
     ]
    },
    {
     "name": "stdout",
     "output_type": "stream",
     "text": [
      "Instruction: Generate a summary that provides readers with an understanding of the text's main themes.\n",
      "X (1024,)\n",
      "[0.09489679 0.10561419 0.11046946 ... 0.11750734 0.10843951 0.03758508]\n",
      "\n"
     ]
    },
    {
     "name": "stderr",
     "output_type": "stream",
     "text": [
      "Map: 100%|████████████████████████████████████| 11334/11334 [00:00<00:00, 97523.94 examples/s]\n",
      "Warning: Empty candidate sentence detected; setting raw BERTscores to 0.\n"
     ]
    },
    {
     "name": "stdout",
     "output_type": "stream",
     "text": [
      "Instruction: Craft a summary that emphasizes the most relevant details and overarching narrative.\n",
      "X (1024,)\n",
      "[0.10305333 0.11066103 0.11046946 ... 0.11750734 0.10853481 0.0451684 ]\n",
      "\n"
     ]
    },
    {
     "name": "stderr",
     "output_type": "stream",
     "text": [
      "Map: 100%|████████████████████████████████████| 11334/11334 [00:00<00:00, 97518.94 examples/s]\n"
     ]
    },
    {
     "name": "stdout",
     "output_type": "stream",
     "text": [
      "Instruction: Summarize the text by selecting the most crucial information and insights.\n",
      "X (1024,)\n",
      "[0.10305339 0.09296995 0.11385727 ... 0.08964616 0.09810066 0.09940398]\n",
      "\n"
     ]
    },
    {
     "name": "stderr",
     "output_type": "stream",
     "text": [
      "Map: 100%|████████████████████████████████████| 11334/11334 [00:00<00:00, 96155.54 examples/s]\n",
      "Warning: Empty candidate sentence detected; setting raw BERTscores to 0.\n"
     ]
    },
    {
     "name": "stdout",
     "output_type": "stream",
     "text": [
      "Instruction: Create a summary that captures the text's essence while ensuring readability and coherence.\n",
      "X (1024,)\n",
      "[0.13959163 0.11066103 0.11046946 ... 0.11750734 0.09703559 0.03215909]\n",
      "\n"
     ]
    },
    {
     "name": "stderr",
     "output_type": "stream",
     "text": [
      "Map: 100%|████████████████████████████████████| 11334/11334 [00:00<00:00, 94926.50 examples/s]\n",
      "Warning: Empty candidate sentence detected; setting raw BERTscores to 0.\n"
     ]
    },
    {
     "name": "stdout",
     "output_type": "stream",
     "text": [
      "Instruction: Generate a summary that condenses the text's content without altering its intended meaning.\n",
      "X (1024,)\n",
      "[0.13959169 0.11419529 0.11385727 ... 0.11750734 0.09819466 0.04516846]\n",
      "\n"
     ]
    },
    {
     "name": "stderr",
     "output_type": "stream",
     "text": [
      "Map: 100%|████████████████████████████████████| 11334/11334 [00:00<00:00, 97198.72 examples/s]\n",
      "Warning: Empty candidate sentence detected; setting raw BERTscores to 0.\n"
     ]
    },
    {
     "name": "stdout",
     "output_type": "stream",
     "text": [
      "Instruction: Craft a summary that represents the text's main points while maintaining its original tone.\n",
      "X (1024,)\n",
      "[0.13959169 0.11066097 0.11385727 ... 0.11750734 0.09782577 0.04516846]\n",
      "\n"
     ]
    },
    {
     "name": "stderr",
     "output_type": "stream",
     "text": [
      "Map: 100%|████████████████████████████████████| 11334/11334 [00:00<00:00, 95500.51 examples/s]\n",
      "Warning: Empty candidate sentence detected; setting raw BERTscores to 0.\n"
     ]
    },
    {
     "name": "stdout",
     "output_type": "stream",
     "text": [
      "Instruction: Summarize the text in a way that presents a balanced view of different perspectives, if applicable.\n",
      "X (1024,)\n",
      "[0.09489679 0.10355258 0.11046946 ... 0.11840647 0.11116147 0.04516828]\n",
      "\n"
     ]
    },
    {
     "name": "stderr",
     "output_type": "stream",
     "text": [
      "Map: 100%|████████████████████████████████████| 11334/11334 [00:00<00:00, 96217.23 examples/s]\n",
      "Warning: Empty candidate sentence detected; setting raw BERTscores to 0.\n"
     ]
    },
    {
     "name": "stdout",
     "output_type": "stream",
     "text": [
      "Instruction: Create a concise summary that succinctly conveys the text's significance and implications.\n",
      "X (1024,)\n",
      "[0.13959163 0.11066103 0.11046946 ... 0.11750734 0.09703559 0.03215909]\n",
      "\n"
     ]
    },
    {
     "name": "stderr",
     "output_type": "stream",
     "text": [
      "Map: 100%|████████████████████████████████████| 11334/11334 [00:00<00:00, 95663.47 examples/s]\n",
      "Warning: Empty candidate sentence detected; setting raw BERTscores to 0.\n"
     ]
    },
    {
     "name": "stdout",
     "output_type": "stream",
     "text": [
      "Instruction: Generate a summary that avoids personal bias and focuses on the objective content.\n",
      "X (1024,)\n",
      "[0.14838862 0.10561419 0.11046946 ... 0.11750734 0.09782577 0.04516846]\n",
      "\n"
     ]
    },
    {
     "name": "stderr",
     "output_type": "stream",
     "text": [
      "Map: 100%|████████████████████████████████████| 11334/11334 [00:00<00:00, 95823.33 examples/s]\n",
      "Warning: Empty candidate sentence detected; setting raw BERTscores to 0.\n"
     ]
    },
    {
     "name": "stdout",
     "output_type": "stream",
     "text": [
      "Instruction: Craft a summary that provides a clear overview of the text's structure and content flow.\n",
      "X (1024,)\n",
      "[0.13959163 0.09283537 0.11046946 ... 0.11750734 0.10915357 0.04516846]\n",
      "\n"
     ]
    },
    {
     "name": "stderr",
     "output_type": "stream",
     "text": [
      "Map: 100%|████████████████████████████████████| 11334/11334 [00:00<00:00, 96429.19 examples/s]\n",
      "Warning: Empty candidate sentence detected; setting raw BERTscores to 0.\n"
     ]
    },
    {
     "name": "stdout",
     "output_type": "stream",
     "text": [
      "Instruction: Summarize the text by identifying the primary goals, outcomes, or conclusions.\n",
      "X (1024,)\n",
      "[0.10305333 0.09296232 0.11385715 ... 0.11750734 0.10853481 0.04516846]\n",
      "\n"
     ]
    },
    {
     "name": "stderr",
     "output_type": "stream",
     "text": [
      "Map: 100%|████████████████████████████████████| 11334/11334 [00:00<00:00, 96339.69 examples/s]\n"
     ]
    },
    {
     "name": "stdout",
     "output_type": "stream",
     "text": [
      "Instruction: Create a summary that captures the text's essential takeaways, making it accessible to readers.\n",
      "X (1024,)\n",
      "[0.13959163 0.10561419 0.11385715 ... 0.11750734 0.09703559 0.03215915]\n",
      "\n"
     ]
    },
    {
     "name": "stderr",
     "output_type": "stream",
     "text": [
      "Map: 100%|████████████████████████████████████| 11334/11334 [00:00<00:00, 96557.29 examples/s]\n",
      "Warning: Empty candidate sentence detected; setting raw BERTscores to 0.\n"
     ]
    },
    {
     "name": "stdout",
     "output_type": "stream",
     "text": [
      "Instruction: Generate a concise summary that effectively communicates the text's core message and insights.\n",
      "X (1024,)\n",
      "[0.13959163 0.10561419 0.11046946 ... 0.11750734 0.11814338 0.03215915]\n",
      "\n"
     ]
    },
    {
     "name": "stderr",
     "output_type": "stream",
     "text": [
      "Map: 100%|████████████████████████████████████| 11334/11334 [00:00<00:00, 94230.86 examples/s]\n"
     ]
    },
    {
     "name": "stdout",
     "output_type": "stream",
     "text": [
      "Instruction: Craft a summary that highlights the text's relevance, significance, and potential impact.\n",
      "X (1024,)\n",
      "[0.10305333 0.11066103 0.11385715 ... 0.11750734 0.09782577 0.03758508]\n",
      "\n"
     ]
    }
   ],
   "source": [
    "for instruction in instructions:\n",
    "\n",
    "    random.seed(random_seed)\n",
    "    torch.manual_seed(random_seed)\n",
    "    np.random.seed(random_seed)\n",
    "\n",
    "    ins_root = instruction + \" Summarize the following document: \\n (Document): \"\n",
    "\n",
    "    dataset = load_dataset(\"xsum\")[\"test\"]\n",
    "    \n",
    "    def prepend(batch):\n",
    "        batch[\"text\"] = [ins_root + t for t in batch[\"document\"]]\n",
    "        return batch\n",
    "\n",
    "    dataset = dataset.map(prepend, batched=True)\n",
    "    dataset = dataset.with_format(\"torch\")\n",
    "    val_dataloader = DataLoader(dataset, batch_size=batch_size, shuffle=True, num_workers=2)\n",
    "    \n",
    "    X = []\n",
    "    with torch.no_grad():\n",
    "\n",
    "        for batch in val_dataloader:\n",
    "\n",
    "            inputs = chat_tokenizer(batch[\"text\"], padding=True, truncation=True, return_tensors=\"pt\").to(device)\n",
    "            outputs = chat_model.generate(**inputs, max_length=100)\n",
    "            chat_out = chat_tokenizer.batch_decode(outputs, skip_special_tokens=True)\n",
    "            \n",
    "            score_out = bertscore.compute(predictions=chat_out, references=batch[\"summary\"], lang=\"en\")[\"f1\"]\n",
    "            score_out = 1-np.array(score_out)\n",
    "            score_out = list(score_out)\n",
    "            \n",
    "            X.extend(score_out)\n",
    "            \n",
    "            if len(X) > n_total:\n",
    "                break\n",
    "\n",
    "    X = np.array(X)\n",
    "\n",
    "    print(\"Instruction:\", instruction)\n",
    "    print(\"X\", X.shape)\n",
    "    print(X)\n",
    "    print()\n",
    "\n",
    "    res.append([instruction, X])"
   ]
  },
  {
   "cell_type": "code",
   "execution_count": 10,
   "id": "46891b5f-4c74-4247-aed4-1c0e65ec80a4",
   "metadata": {},
   "outputs": [],
   "source": [
    "##### SAVE DATA!"
   ]
  },
  {
   "cell_type": "code",
   "execution_count": 11,
   "id": "49e9b72f-374c-41e2-be16-ee8cdb18f30a",
   "metadata": {},
   "outputs": [],
   "source": [
    "bj_bounds = dict()\n",
    "correction = delta/len(instructions)"
   ]
  },
  {
   "cell_type": "code",
   "execution_count": 20,
   "id": "507738ae-e42a-4153-a129-0639f765a74c",
   "metadata": {},
   "outputs": [],
   "source": [
    "def plot_results(\n",
    "    beta_min, \n",
    "    beta_max, \n",
    "    n_cal_list=[200,1000],\n",
    "    top_row=False\n",
    "):\n",
    "\n",
    "    n_plots = len(n_cal_list)\n",
    "\n",
    "    plt.rcParams[\"figure.figsize\"] = [6*n_plots,3]\n",
    "\n",
    "    fig, axs = plt.subplots(1,n_plots)\n",
    "\n",
    "    for n_idx, n_cal in enumerate(n_cal_list):\n",
    "    \n",
    "        stats = []\n",
    "        \n",
    "        for instruction, X in res:\n",
    "               \n",
    "            X_cal = X[:n_cal]\n",
    "            X_test = X[n_cal:]\n",
    "            n_test = X_test.shape[0]\n",
    "            assert X_cal.shape[0] == n_cal and X_test.shape[0] == n_test\n",
    "        \n",
    "            if X_cal.shape[0] not in bj_bounds:\n",
    "                b = berk_jones_bound(n_cal, correction)\n",
    "                bj_bounds[n_cal] = b\n",
    "            else:\n",
    "                b = bj_bounds[n_cal]\n",
    "            \n",
    "            t_cal = np.linspace(0.0, 1.0, n_cal)\n",
    "            X_cal_sorted = np.sort(X_cal, axis=-1)\n",
    "            \n",
    "            t_test = np.linspace(0.0, 1.0, n_test)\n",
    "            X_test_sorted = np.sort(X_test, axis=-1)\n",
    "\n",
    "        \n",
    "            mean_bound = integrate_quantiles(np.expand_dims(X_cal, 0), b, beta_min=0.0, beta_max=1.0)[0]\n",
    "            cvar_bound = integrate_quantiles(np.expand_dims(X_cal, 0), b, beta_min=beta_min, beta_max=beta_max)[0]\n",
    "            \n",
    "            emp_mean_cal = integrate_quantiles(np.expand_dims(X_cal, 0), t_cal, beta_min=0.0, beta_max=1.0)[0]\n",
    "            emp_cvar_cal = integrate_quantiles(np.expand_dims(X_cal, 0), t_cal, beta_min=beta_min, beta_max=beta_max)[0]\n",
    "            \n",
    "            emp_mean_test = integrate_quantiles(np.expand_dims(X_test, 0), t_test, beta_min=0.0, beta_max=1.0)[0]\n",
    "            emp_cvar_test = integrate_quantiles(np.expand_dims(X_test, 0), t_test, beta_min=beta_min, beta_max=beta_max)[0]\n",
    "\n",
    "            stats.append([instruction, mean_bound, cvar_bound, emp_mean_cal, emp_cvar_cal, emp_mean_test, emp_cvar_test])\n",
    "\n",
    "            # plt.plot(X_cal_sorted, b, label=\"bound\")\n",
    "            # plt.plot(X_cal_sorted, t_cal, label=\"empirical (cal)\")\n",
    "            # plt.plot(X_test_sorted, t_test, label=\"empirical (test)\")\n",
    "            # plt.legend()\n",
    "            # plt.show()\n",
    "        \n",
    "            # print(\"bound mean\", mean_bound, \"| bound cvar\", cvar_bound)\n",
    "            # print(\"emp mean (cal)\", emp_mean_cal, \"| emp cvar (cal)\", emp_cvar_cal)\n",
    "            # print(\"emp mean (test)\", emp_mean_test, \"| emp cvar (test)\", emp_cvar_test)\n",
    "            # print()\n",
    "            # print()\n",
    "        \n",
    "        x_plot = []\n",
    "        y_plot = []\n",
    "        \n",
    "        \n",
    "        for s in stats:\n",
    "        \n",
    "            instruction, mean_bound, cvar_bound, emp_mean_cal, emp_cvar_cal, emp_mean_test, emp_cvar_test = s\n",
    "        \n",
    "            x_plot.append(emp_mean_cal)\n",
    "            y_plot.append(cvar_bound)\n",
    "        \n",
    "        axs[n_idx].scatter(x_plot, y_plot, alpha=0.8, color=pal[2], label=\"Prompt\")\n",
    "        \n",
    "        axs[n_idx].set_xlabel(\"Empirical Mean on Val. Set\")\n",
    "        axs[n_idx].set_ylabel(\"Bound\")\n",
    "        \n",
    "        if beta_max == 1:\n",
    "            axs[n_idx].set_title(r\"CVaR ($n={}, \\beta={}$)\".format(n_cal, beta_min))\n",
    "        else:\n",
    "            axs[n_idx].set_title(r\"VaR-Interval ($n={}, \\beta_l={}, \\beta_u={}$)\".format(n_cal, beta_min, beta_max))\n",
    "\n",
    "        axs[n_idx].xaxis.set_major_formatter(FormatStrFormatter('%.3f'))\n",
    "\n",
    "        if n_idx == 1 and not top_row:\n",
    "            axs[n_idx].legend(fontsize=12)\n",
    "\n",
    "    if top_row:\n",
    "        plt.suptitle(\"Summarization - Bert Score Loss\", y=1.05)\n",
    "        \n",
    "    plt.savefig(\"../plots/summarization_{}_{}.png\".format(beta_min, beta_max), bbox_inches=\"tight\")\n",
    "    plt.show()\n",
    "        \n",
    "            "
   ]
  },
  {
   "cell_type": "code",
   "execution_count": 21,
   "id": "a792041c-8bbc-4545-bb6d-2566ce5dd65a",
   "metadata": {},
   "outputs": [
    {
     "data": {
      "image/png": "[encoded data removed]",
      "text/plain": [
       "<Figure size 1200x300 with 2 Axes>"
      ]
     },
     "metadata": {},
     "output_type": "display_data"
    },
    {
     "data": {
      "image/png": "[encoded data removed]",
      "text/plain": [
       "<Figure size 1200x300 with 2 Axes>"
      ]
     },
     "metadata": {},
     "output_type": "display_data"
    }
   ],
   "source": [
    "plot_results(\n",
    "    beta_min = 0.95,\n",
    "    beta_max = 1.0, \n",
    "    n_cal_list = [500, 1000],\n",
    "    top_row=True\n",
    ")\n",
    "\n",
    "plot_results(\n",
    "    beta_min = 0.25,\n",
    "    beta_max = 0.75, \n",
    "    n_cal_list = [500, 1000]\n",
    ")"
   ]
  },
  {
   "cell_type": "code",
   "execution_count": null,
   "id": "a29ac298-b2bd-48fc-919e-7d532d46a8d5",
   "metadata": {},
   "outputs": [],
   "source": []
  }
 ],
 "metadata": {
  "kernelspec": {
   "display_name": "Python 3 (ipykernel)",
   "language": "python",
   "name": "python3"
  },
  "language_info": {
   "codemirror_mode": {
    "name": "ipython",
    "version": 3
   },
   "file_extension": ".py",
   "mimetype": "text/x-python",
   "name": "python",
   "nbconvert_exporter": "python",
   "pygments_lexer": "ipython3",
   "version": "3.10.12"
  }
 },
 "nbformat": 4,
 "nbformat_minor": 5
}
