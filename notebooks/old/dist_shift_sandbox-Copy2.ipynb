{
 "cells": [
  {
   "cell_type": "code",
   "execution_count": 352,
   "id": "46b3a125-db97-4ec7-a476-cb92004a51ca",
   "metadata": {},
   "outputs": [],
   "source": [
    "import torch\n",
    "import numpy as np\n",
    "import math\n",
    "import os\n",
    "import pandas as pd\n",
    "\n",
    "from tqdm import tqdm\n",
    "\n",
    "from sklearn.neural_network import MLPClassifier\n",
    "from sklearn.model_selection import train_test_split\n",
    "\n",
    "from prompt_risk.bounds import *\n",
    "from prompt_risk.utils import *\n",
    "\n",
    "import matplotlib.pyplot as plt\n",
    "from matplotlib import style\n",
    "plt.style.use('seaborn-v0_8')"
   ]
  },
  {
   "cell_type": "code",
   "execution_count": 353,
   "id": "accc406f-051e-457d-8463-5d558752b7f7",
   "metadata": {},
   "outputs": [],
   "source": [
    "bj_bounds = dict()"
   ]
  },
  {
   "cell_type": "code",
   "execution_count": 359,
   "id": "d880f1d4-a0b0-44ff-8d5f-e06ae0970de6",
   "metadata": {},
   "outputs": [],
   "source": [
    "def binedges_equalmass(x, n_bins):\n",
    "    n = len(x)\n",
    "    return np.interp(np.linspace(0, n, n_bins + 1),\n",
    "                     np.arange(n),\n",
    "                     np.sort(x))\n",
    "\n",
    "def find_bin_edges_equal_mass_src(source_data, n_bins, clf):\n",
    "    ## compute iw using training set\n",
    "    w_list_train = []\n",
    "    X_source = source_data[0]\n",
    "    w_source = 1/clf.predict_proba(X_source)[:, 1]-1\n",
    "\n",
    "    bin_edges = binedges_equalmass(list(w_source), n_bins)\n",
    "    bin_edges[0] = 0.0\n",
    "    bin_edges[-1] = np.inf\n",
    "    return bin_edges\n",
    "\n",
    "def bci_clopper_pearson(k, n, alpha, two_side=True, use_R=False):\n",
    "    if two_side:\n",
    "        if use_R: # R is numerically better when alpha is small\n",
    "            from rpy2.robjects.packages import importr\n",
    "            stats = importr('stats')\n",
    "\n",
    "            lo = stats.qbeta(alpha/2, int(k), int(n-k+1))[0]\n",
    "            hi = stats.qbeta(1 - alpha/2, int(k+1), int(n-k))[0]\n",
    "        else:\n",
    "            from scipy import stats\n",
    "\n",
    "            lo = stats.beta.ppf(alpha/2, k, n-k+1)\n",
    "            hi = stats.beta.ppf(1 - alpha/2, k+1, n-k)\n",
    "        \n",
    "            lo = 0.0 if math.isnan(lo) else lo\n",
    "            hi = 1.0 if math.isnan(hi) else hi\n",
    "    \n",
    "        return lo, hi\n",
    "    else:\n",
    "        if use_R: # R is numerically better when alpha is small\n",
    "            from rpy2.robjects.packages import importr\n",
    "            stats = importr('stats')\n",
    "\n",
    "            hi = stats.qbeta(1 - alpha, int(k+1), int(n-k))[0]\n",
    "        else:\n",
    "            from scipy import stats\n",
    "\n",
    "            hi = stats.beta.ppf(1 - alpha, k+1, n-k)\n",
    "            hi = 1.0 if math.isnan(hi) else hi\n",
    "    \n",
    "        return hi\n",
    "\n",
    "def unison_shuffled_copies(a, b, c):\n",
    "    assert len(a) == len(b) and len(b) == len(c)\n",
    "    p = np.random.permutation(len(a))\n",
    "    return a[p], b[p], c[p]"
   ]
  },
  {
   "cell_type": "code",
   "execution_count": 355,
   "id": "9569252c-ab8a-4b81-a624-8cd99734b1ea",
   "metadata": {},
   "outputs": [
    {
     "name": "stderr",
     "output_type": "stream",
     "text": [
      "/tmp/ipykernel_32007/2045969602.py:4: DtypeWarning: Columns (22) have mixed types. Specify dtype option on import or set low_memory=False.\n",
      "  source_df = pd.read_csv(filepath)\n"
     ]
    },
    {
     "name": "stdout",
     "output_type": "stream",
     "text": [
      "hyp: {'instruction': 'You are a helpful chatbot. Your mission is to provide accurate information, share wisdom, and be friendly.'}\n"
     ]
    }
   ],
   "source": [
    "chat_root = \"full\"\n",
    "filepath = \"../llm_output/{}_chat/google-flan-t5-xxl_predictions.csv\".format(chat_root)\n",
    "# filepath = \"../llm_output/cnn_dailymail/meta-llama-Llama-2-7b-chat-hf_predictions.csv\"\n",
    "source_df = pd.read_csv(filepath)\n",
    "\n",
    "test_hyp = None\n",
    "for h in source_df[\"hypothesis\"].unique():\n",
    "    rows = source_df[source_df[\"hypothesis\"] == h]\n",
    "    if len(rows) == 40000:\n",
    "        test_hyp = h\n",
    "        break\n",
    "\n",
    "print(\"hyp:\", test_hyp)\n",
    "source_df = source_df[source_df[\"hypothesis\"] == test_hyp]\n",
    "source_df = source_df.sort_values([\"task_id\"])\n",
    "source_tasks = source_df[\"task_id\"].tolist()\n",
    "\n",
    "source_emb_df = pd.read_csv(\"../llm_output/{}_chat/sentence-transformers-multi-qa-mpnet-base-dot-v1_embeddings.csv\".format(chat_root))\n",
    "# source_emb_df = pd.read_csv(\"../llm_output/cnn_dailymail/sentence-transformers-multi-qa-mpnet-base-dot-v1_embeddings.csv\")\n",
    "source_emb_df = source_emb_df.sort_values([\"task_id\"])\n",
    "source_emb_tasks = source_emb_df[\"task_id\"].tolist()\n",
    "\n",
    "assert source_tasks == source_emb_tasks"
   ]
  },
  {
   "cell_type": "code",
   "execution_count": 360,
   "id": "d2a50af2-7d3b-48e1-9c1d-32d5a101a9db",
   "metadata": {},
   "outputs": [
    {
     "name": "stderr",
     "output_type": "stream",
     "text": [
      "/tmp/ipykernel_32007/4242963019.py:4: DtypeWarning: Columns (22) have mixed types. Specify dtype option on import or set low_memory=False.\n",
      "  target_df = pd.read_csv(filepath)\n"
     ]
    }
   ],
   "source": [
    "chat_root = \"red_team\"\n",
    "filepath = \"../llm_output/{}_chat/google-flan-t5-xxl_predictions.csv\".format(chat_root)\n",
    "# filepath = \"../llm_output/xsum/meta-llama-Llama-2-7b-chat-hf_predictions.csv\"\n",
    "target_df = pd.read_csv(filepath)\n",
    "\n",
    "target_df = target_df[target_df[\"hypothesis\"] == test_hyp]\n",
    "target_df = target_df.sort_values([\"task_id\"])\n",
    "target_tasks = target_df[\"task_id\"].tolist()\n",
    "\n",
    "target_emb_df = pd.read_csv(\"../llm_output/{}_chat/sentence-transformers-multi-qa-mpnet-base-dot-v1_embeddings.csv\".format(chat_root))\n",
    "# target_emb_df = pd.read_csv(\"../llm_output/xsum/sentence-transformers-multi-qa-mpnet-base-dot-v1_embeddings.csv\")\n",
    "target_emb_df = target_emb_df.sort_values([\"task_id\"])\n",
    "target_emb_tasks = target_emb_df[\"task_id\"].tolist()\n",
    "\n",
    "assert target_tasks == target_emb_tasks"
   ]
  },
  {
   "cell_type": "code",
   "execution_count": 426,
   "id": "2747df38-d7c1-46f2-9e19-886967192805",
   "metadata": {},
   "outputs": [
    {
     "data": {
      "text/plain": [
       "((40000, 768), (40000,))"
      ]
     },
     "execution_count": 426,
     "metadata": {},
     "output_type": "execute_result"
    }
   ],
   "source": [
    "X_source = np.array([eval(s) for s in source_emb_df[\"embedding\"].tolist()])\n",
    "z_source = np.array(source_df[\"toxicity\"].tolist())\n",
    "\n",
    "X_source.shape, z_source.shape"
   ]
  },
  {
   "cell_type": "code",
   "execution_count": 427,
   "id": "942557d3-7225-4d4f-a3ce-a7c3224c351a",
   "metadata": {},
   "outputs": [
    {
     "data": {
      "text/plain": [
       "((38961, 768), (38961,))"
      ]
     },
     "execution_count": 427,
     "metadata": {},
     "output_type": "execute_result"
    }
   ],
   "source": [
    "X_target = np.array([eval(s) for s in target_emb_df[\"embedding\"].tolist()])\n",
    "z_target = np.array(target_df[\"toxicity\"].tolist())\n",
    "\n",
    "X_target.shape, z_target.shape"
   ]
  },
  {
   "cell_type": "code",
   "execution_count": 444,
   "id": "8f7a4ff7-ec74-4383-98e9-342743c4ac82",
   "metadata": {},
   "outputs": [
    {
     "data": {
      "text/plain": [
       "((40000, 768), (40000,), (38961, 768), (38961,))"
      ]
     },
     "execution_count": 444,
     "metadata": {},
     "output_type": "execute_result"
    }
   ],
   "source": [
    "X_source.shape, z_source.shape, X_target.shape, z_target.shape"
   ]
  },
  {
   "cell_type": "code",
   "execution_count": 445,
   "id": "9021271f-f493-40d6-aaeb-aa489c8807ac",
   "metadata": {},
   "outputs": [],
   "source": [
    "n_bins = 5\n",
    "delta_w = 0.05\n",
    "delta_b = 0.05\n",
    "E = 1e-5\n",
    "train_prop = 0.2"
   ]
  },
  {
   "cell_type": "code",
   "execution_count": 446,
   "id": "57ea7d30-c311-45e7-b293-86610922d926",
   "metadata": {},
   "outputs": [
    {
     "name": "stdout",
     "output_type": "stream",
     "text": [
      "(8000, 768) (70961, 768)\n",
      "(8000,) (70961,)\n",
      "(8000,) (70961,)\n"
     ]
    }
   ],
   "source": [
    "torch.manual_seed(0)\n",
    "np.random.seed(0)\n",
    "\n",
    "n_source = X_source.shape[0]\n",
    "n_target = X_target.shape[0]\n",
    "\n",
    "y_source = np.ones(n_source)\n",
    "y_target = np.zeros(n_target)\n",
    "\n",
    "X = np.concatenate([X_source, X_target])\n",
    "y = np.concatenate([y_source, y_target])\n",
    "z = np.concatenate([z_source, z_target])\n",
    "\n",
    "n_train = int(n_source*train_prop)\n",
    "X, y, z = unison_shuffled_copies(X, y, z)\n",
    "X_train, X_test = X[:n_train], X[n_train:]\n",
    "y_train, y_test = y[:n_train], y[n_train:]\n",
    "z_train, z_test = z[:n_train], z[n_train:]\n",
    "\n",
    "print(X_train.shape, X_test.shape)\n",
    "print(y_train.shape, y_test.shape)\n",
    "print(z_train.shape, z_test.shape)"
   ]
  },
  {
   "cell_type": "code",
   "execution_count": 447,
   "id": "412891b7-4060-4b1f-bf9c-af2b80ecc160",
   "metadata": {},
   "outputs": [
    {
     "name": "stdout",
     "output_type": "stream",
     "text": [
      "Iteration 1, loss = 0.54316574\n",
      "Iteration 2, loss = 0.46012102\n",
      "Iteration 3, loss = 0.43268574\n",
      "Iteration 4, loss = 0.40884937\n",
      "Iteration 5, loss = 0.38113180\n",
      "Iteration 6, loss = 0.35265614\n",
      "Iteration 7, loss = 0.31399600\n",
      "Iteration 8, loss = 0.27203446\n",
      "Iteration 9, loss = 0.23791641\n",
      "Iteration 10, loss = 0.19803786\n",
      "Iteration 11, loss = 0.16859677\n",
      "Iteration 12, loss = 0.13802359\n",
      "Iteration 13, loss = 0.11789249\n",
      "Iteration 14, loss = 0.10142292\n",
      "Iteration 15, loss = 0.09167714\n",
      "Iteration 16, loss = 0.08102674\n",
      "Iteration 17, loss = 0.07813503\n",
      "Iteration 18, loss = 0.07193411\n",
      "Iteration 19, loss = 0.06503449\n",
      "Iteration 20, loss = 0.07577267\n",
      "Iteration 21, loss = 0.07030984\n",
      "Iteration 22, loss = 0.06224648\n",
      "Iteration 23, loss = 0.05784159\n",
      "Iteration 24, loss = 0.05837654\n",
      "Iteration 25, loss = 0.05680724\n",
      "Iteration 26, loss = 0.05983227\n",
      "Iteration 27, loss = 0.05049557\n",
      "Iteration 28, loss = 0.05148064\n",
      "Iteration 29, loss = 0.05042765\n",
      "Iteration 30, loss = 0.05040546\n",
      "Iteration 31, loss = 0.04795300\n",
      "Iteration 32, loss = 0.04590658\n",
      "Iteration 33, loss = 0.04772369\n",
      "Iteration 34, loss = 0.04786695\n",
      "Iteration 35, loss = 0.04821586\n",
      "Iteration 36, loss = 0.04408967\n",
      "Iteration 37, loss = 0.04236185\n",
      "Iteration 38, loss = 0.04311507\n",
      "Iteration 39, loss = 0.04524671\n",
      "Iteration 40, loss = 0.03928866\n",
      "Iteration 41, loss = 0.04072948\n",
      "Iteration 42, loss = 0.04022406\n",
      "Iteration 43, loss = 0.04233133\n",
      "Iteration 44, loss = 0.04257636\n",
      "Iteration 45, loss = 0.04208525\n",
      "Iteration 46, loss = 0.03967024\n",
      "Iteration 47, loss = 0.04141753\n",
      "Iteration 48, loss = 0.03688360\n",
      "Iteration 49, loss = 0.03791158\n",
      "Iteration 50, loss = 0.03747613\n",
      "Iteration 51, loss = 0.03737132\n",
      "Iteration 52, loss = 0.03770652\n",
      "Iteration 53, loss = 0.03473799\n",
      "Iteration 54, loss = 0.03767042\n",
      "Iteration 55, loss = 0.03686220\n",
      "Iteration 56, loss = 0.03720370\n",
      "Iteration 57, loss = 0.03618253\n",
      "Iteration 58, loss = 0.03639707\n",
      "Iteration 59, loss = 0.03444135\n",
      "Iteration 60, loss = 0.03543280\n",
      "Iteration 61, loss = 0.03528788\n",
      "Iteration 62, loss = 0.03421877\n",
      "Iteration 63, loss = 0.03445428\n",
      "Iteration 64, loss = 0.03333629\n",
      "Iteration 65, loss = 0.03228344\n",
      "Iteration 66, loss = 0.03381711\n",
      "Iteration 67, loss = 0.03246174\n",
      "Iteration 68, loss = 0.03304181\n",
      "Iteration 69, loss = 0.03182306\n",
      "Iteration 70, loss = 0.03284892\n",
      "Iteration 71, loss = 0.03161535\n",
      "Iteration 72, loss = 0.03354551\n",
      "Iteration 73, loss = 0.03162376\n",
      "Iteration 74, loss = 0.03065094\n",
      "Iteration 75, loss = 0.03243017\n",
      "Iteration 76, loss = 0.03241737\n",
      "Iteration 77, loss = 0.02843149\n",
      "Iteration 78, loss = 0.02982218\n",
      "Iteration 79, loss = 0.03192995\n",
      "Iteration 80, loss = 0.03031219\n",
      "Iteration 81, loss = 0.03087455\n",
      "Iteration 82, loss = 0.03294919\n",
      "Iteration 83, loss = 0.03131612\n",
      "Iteration 84, loss = 0.02881292\n",
      "Iteration 85, loss = 0.03005236\n",
      "Iteration 86, loss = 0.02891388\n",
      "Iteration 87, loss = 0.02829537\n",
      "Iteration 88, loss = 0.02912253\n",
      "Iteration 89, loss = 0.02971417\n",
      "Iteration 90, loss = 0.02827286\n",
      "Iteration 91, loss = 0.02786524\n",
      "Iteration 92, loss = 0.02745448\n",
      "Iteration 93, loss = 0.02739664\n",
      "Iteration 94, loss = 0.02848444\n",
      "Iteration 95, loss = 0.02826041\n",
      "Iteration 96, loss = 0.02771977\n",
      "Iteration 97, loss = 0.02591878\n",
      "Iteration 98, loss = 0.02627404\n",
      "Iteration 99, loss = 0.02779076\n",
      "Iteration 100, loss = 0.02633358\n"
     ]
    },
    {
     "name": "stderr",
     "output_type": "stream",
     "text": [
      "/opt/conda/envs/prompt_risk/lib/python3.10/site-packages/sklearn/neural_network/_multilayer_perceptron.py:691: ConvergenceWarning: Stochastic Optimizer: Maximum iterations (100) reached and the optimization hasn't converged yet.\n",
      "  warnings.warn(\n"
     ]
    },
    {
     "name": "stdout",
     "output_type": "stream",
     "text": [
      "score 0.7461563393976973\n"
     ]
    }
   ],
   "source": [
    "clf = MLPClassifier(\n",
    "    hidden_layer_sizes=(100,100), \n",
    "    random_state=1, \n",
    "    max_iter=100, \n",
    "    verbose=True\n",
    ").fit(X_train, y_train)\n",
    "\n",
    "score = clf.score(X_test, y_test)\n",
    "print(\"score\", score)"
   ]
  },
  {
   "cell_type": "code",
   "execution_count": 448,
   "id": "59efadfa-b25b-4ad6-8276-0fc7e644c7d5",
   "metadata": {},
   "outputs": [
    {
     "name": "stdout",
     "output_type": "stream",
     "text": [
      "(35994, 768) (35994,) (35994,)\n",
      "(34967, 768) (34967,) (34967,)\n"
     ]
    }
   ],
   "source": [
    "source_data = (X_test[y_test == 1], y_test[y_test == 1], z_test[y_test == 1])\n",
    "target_data = (X_test[y_test == 0], y_test[y_test == 0], z_test[y_test == 0])\n",
    "\n",
    "print(source_data[0].shape, source_data[1].shape, source_data[2].shape)\n",
    "print(target_data[0].shape, target_data[1].shape, target_data[2].shape)"
   ]
  },
  {
   "cell_type": "code",
   "execution_count": 449,
   "id": "fd3d2a77-b401-493e-b8c5-658a8cc879bd",
   "metadata": {},
   "outputs": [
    {
     "data": {
      "text/plain": [
       "((70961, 768), (70961,), (70961,))"
      ]
     },
     "execution_count": 449,
     "metadata": {},
     "output_type": "execute_result"
    }
   ],
   "source": [
    "X_val = np.concatenate([source_data[0], target_data[0]])\n",
    "y_val = np.concatenate([source_data[1], target_data[1]])\n",
    "z_val = np.concatenate([source_data[2], target_data[2]])\n",
    "X_val.shape, y_val.shape, z_val.shape"
   ]
  },
  {
   "cell_type": "code",
   "execution_count": 450,
   "id": "38b2c02e-2a98-4097-9fa5-db4abd0d22ab",
   "metadata": {},
   "outputs": [
    {
     "name": "stdout",
     "output_type": "stream",
     "text": [
      "## histogram binning with n_bins = 5, delta = 5.000000e-02, and E = 1e-05\n",
      "[bin edges] [0.00000000e+00 9.88056255e-08 1.22352863e-05 2.09838399e-03\n",
      " 4.49191511e+00            inf]\n"
     ]
    },
    {
     "data": {
      "text/plain": [
       "(70961,)"
      ]
     },
     "execution_count": 450,
     "metadata": {},
     "output_type": "execute_result"
    }
   ],
   "source": [
    "print(f'## histogram binning with n_bins = {n_bins}, delta = {delta_w:e}, and E = {E}')\n",
    "\n",
    "bin_edges = find_bin_edges_equal_mass_src(source_data, n_bins, clf)\n",
    "assert(len(bin_edges) == n_bins+1)\n",
    "\n",
    "print('[bin edges]', bin_edges)\n",
    "\n",
    "iw = (1/clf.predict_proba(X_val)[:, 1])-1\n",
    "iw.shape"
   ]
  },
  {
   "cell_type": "code",
   "execution_count": 451,
   "id": "6639d1ba-e72a-4dcf-82c3-c3791dcdb77f",
   "metadata": {},
   "outputs": [
    {
     "name": "stdout",
     "output_type": "stream",
     "text": [
      "bin_id = 1, n_src = 7199, n_tar = 237\n",
      "bin_id = 2, n_src = 7199, n_tar = 563\n",
      "bin_id = 3, n_src = 7199, n_tar = 2156\n",
      "bin_id = 4, n_src = 7199, n_tar = 9212\n",
      "bin_id = 5, n_src = 7198, n_tar = 22799\n"
     ]
    }
   ],
   "source": [
    "n_src_list, n_tar_list, iw_est = [], [], []\n",
    "for i, (l, u) in enumerate(zip(bin_edges[:-1], bin_edges[1:])):\n",
    "    if i == len(bin_edges)-2:\n",
    "        idx = (iw>=l) & (iw<=u)\n",
    "    else:\n",
    "        idx = (iw>=l) & (iw<u)\n",
    "    label_i = y_val[idx]\n",
    "    n_src = np.sum(label_i == 1)\n",
    "    n_tar = np.sum(label_i == 0)\n",
    "\n",
    "    print(f'bin_id = {i+1}, n_src = {n_src}, n_tar = {n_tar}')\n",
    "\n",
    "    iw_est.append((l+u)/2.0)\n",
    "    n_src_list.append(n_src)\n",
    "    n_tar_list.append(n_tar)"
   ]
  },
  {
   "cell_type": "code",
   "execution_count": 452,
   "id": "1f8588ea-fcc6-4b25-a974-4a8cd16ee811",
   "metadata": {},
   "outputs": [
    {
     "name": "stdout",
     "output_type": "stream",
     "text": [
      "[src] [7199 7199 7199 7199 7198] 35994\n",
      "[tar] [  237   563  2156  9212 22799] 34967\n",
      "[itv_rate_src] [(0.19412033870537407, 0.20598419316535474), (0.19412033870537407, 0.20598419316535474), (0.19412033870537407, 0.20598419316535474), (0.19412033870537407, 0.20598419316535474), (0.19409286889421692, 0.20595610682754556)]\n",
      "[itv_rate_tar] [(0.0056106018531865325, 0.008105129328958747), (0.014274576675271947, 0.018083438844694585), (0.0581033793053991, 0.06535371379320765), (0.2568598279863823, 0.27011276695637115), (0.6448261841664016, 0.659154624982986)]\n",
      "\n",
      "[lower] [0.02718815 0.06924747 0.28201465 1.24687897 3.13069074]\n",
      "[upper] [0.04180679 0.09321213 0.33673484 1.39159392 3.39630504]\n",
      "[mean] [0.03449747 0.0812298  0.30937474 1.31923645 3.26349789]\n",
      "[iw_max] 3.3963050357744726\n",
      "\n",
      "w hat [0.0812298  3.26349789 0.30937474 ... 1.31923645 3.26349789 3.26349789]\n",
      "diffs [0.01461863 0.02396466 0.05472019 0.14471495 0.26561429]\n",
      "epsilon 0.265614292047871 0.361682272914256\n"
     ]
    }
   ],
   "source": [
    "iw_est, n_src_list, n_tar_list = np.array(iw_est), np.array(n_src_list), np.array(n_tar_list)\n",
    "n_src_all, n_tar_all = np.sum(n_src_list), np.sum(n_tar_list)\n",
    "print('[src]', n_src_list, n_src_all)\n",
    "print('[tar]', n_tar_list, n_tar_all)\n",
    "\n",
    "## estimate CP intervals\n",
    "itv_rate_src = [bci_clopper_pearson(k, n_src_all, delta_w / n_bins / 2.0) for k in n_src_list]\n",
    "itv_rate_tar = [bci_clopper_pearson(k, n_tar_all, delta_w / n_bins / 2.0) for k in n_tar_list]\n",
    "\n",
    "print('[itv_rate_src]', itv_rate_src)\n",
    "print('[itv_rate_tar]', itv_rate_tar)\n",
    "print()\n",
    "\n",
    "## compute iw lower/upper/mean. Note that add a small value to avoid numerical error\n",
    "iw_lower = np.array([max(0, n_tar[0] - E)/(n_src[1] + E + 1e-16) for n_src, n_tar in zip(itv_rate_src, itv_rate_tar)]) \n",
    "iw_upper = np.array([(n_tar[1] + E)/(max(0, n_src[0] - E) + 1e-16) for n_src, n_tar in zip(itv_rate_src, itv_rate_tar)])\n",
    "iw_mean = (iw_lower + iw_upper) / 2.0\n",
    "\n",
    "print('[lower]', iw_lower)\n",
    "print('[upper]', iw_upper)\n",
    "print('[mean]', iw_mean)\n",
    "print('[iw_max]', np.max(iw_upper))\n",
    "print()\n",
    "\n",
    "w_hat = np.zeros_like(y_val)\n",
    "\n",
    "for i, (l, u) in enumerate(zip(bin_edges[:-1], bin_edges[1:])):\n",
    "    if i == len(bin_edges)-2:\n",
    "        idx = (iw>=l) & (iw<=u)\n",
    "    else:\n",
    "        idx = (iw>=l) & (iw<u)\n",
    "    w_hat[idx] = iw_mean[i]\n",
    "\n",
    "print(\"w hat\", w_hat)\n",
    "\n",
    "print(\"diffs\", iw_upper - iw_lower)\n",
    "\n",
    "epsilon = np.max(iw_upper - iw_lower)\n",
    "print(\"epsilon\", epsilon, epsilon/(1-epsilon))"
   ]
  },
  {
   "cell_type": "code",
   "execution_count": 453,
   "id": "c7d292f6-1a45-4a59-9e50-8a48666af489",
   "metadata": {},
   "outputs": [
    {
     "data": {
      "text/plain": [
       "((35994,), (34967,), 3.2634978897505373)"
      ]
     },
     "execution_count": 453,
     "metadata": {},
     "output_type": "execute_result"
    }
   ],
   "source": [
    "w_hat_source = w_hat[y_test == 1]\n",
    "w_hat_target = w_hat[y_test == 0]\n",
    "\n",
    "w_hat_max = np.max(w_hat_source)\n",
    "\n",
    "w_hat_source.shape, w_hat_target.shape, w_hat_max"
   ]
  },
  {
   "cell_type": "code",
   "execution_count": 454,
   "id": "70335c93-2006-41b0-a216-20e4af0fde71",
   "metadata": {},
   "outputs": [],
   "source": [
    "V = np.random.uniform(0,1,w_hat_source.shape[0])"
   ]
  },
  {
   "cell_type": "code",
   "execution_count": 455,
   "id": "91d29382-a73b-4c6a-b3c4-ab1a76f98047",
   "metadata": {},
   "outputs": [],
   "source": [
    "z_tar = target_data[2]"
   ]
  },
  {
   "cell_type": "code",
   "execution_count": 456,
   "id": "a6026a7f-39c2-4853-9b18-5f371aa563b2",
   "metadata": {},
   "outputs": [
    {
     "data": {
      "text/plain": [
       "(19218,)"
      ]
     },
     "execution_count": 456,
     "metadata": {},
     "output_type": "execute_result"
    }
   ],
   "source": [
    "z_cal = source_data[2][(w_hat_source/w_hat_max) > V]\n",
    "z_cal.shape"
   ]
  },
  {
   "cell_type": "code",
   "execution_count": 457,
   "id": "d9668520-70e6-41f3-be12-6940b2e2561e",
   "metadata": {},
   "outputs": [],
   "source": [
    "n_cal = z_cal.shape[0]\n",
    "if n_cal not in bj_bounds:\n",
    "    # b_cal = berk_jones(n_cal, 0.05)\n",
    "    b_cal = ks_bound(n_cal, delta_b)\n",
    "    bj_bounds[n_cal] = b_cal\n",
    "else:\n",
    "    b_cal = bj_bounds[n_cal]\n",
    "\n",
    "n_s = z_source.shape[0]\n",
    "if n_s not in bj_bounds:\n",
    "    # b_source = berk_jones(n_s, 0.05)\n",
    "    b_source = ks_bound(n_s, delta_b)\n",
    "    bj_bounds[n_s] = b_source\n",
    "else:\n",
    "    b_source = bj_bounds[n_s]\n",
    "\n",
    "n_t = z_tar.shape[0]\n",
    "if n_t not in bj_bounds:\n",
    "    # b_source = berk_jones(n_s, 0.05)\n",
    "    b_target = ks_bound(n_t, delta_b)\n",
    "    bj_bounds[n_t] = b_target\n",
    "else:\n",
    "    b_target = bj_bounds[n_t]"
   ]
  },
  {
   "cell_type": "code",
   "execution_count": 458,
   "id": "9699206f-618f-49d5-b80b-7ec01e6a2595",
   "metadata": {},
   "outputs": [],
   "source": [
    "inflation = epsilon/(1-epsilon)\n",
    "b_inf = np.clip(b_cal-inflation, 0, 1)"
   ]
  },
  {
   "cell_type": "code",
   "execution_count": 459,
   "id": "6cd648af-dca1-48a7-be90-18f4689f8c6a",
   "metadata": {},
   "outputs": [
    {
     "data": {
      "image/png": "[encoded data removed]",
      "text/plain": [
       "<Figure size 1300x400 with 2 Axes>"
      ]
     },
     "metadata": {},
     "output_type": "display_data"
    },
    {
     "name": "stdout",
     "output_type": "stream",
     "text": [
      "Median bounds\n",
      "naive bound 0.000778715359047  | our bound 0.0150741003453731 | empirical 0.0008274248684756\n"
     ]
    }
   ],
   "source": [
    "plt.rcParams[\"figure.figsize\"] = [13,4]\n",
    "fig, axs = plt.subplots(1,2)\n",
    "\n",
    "axs[0].plot(np.sort(z_source), b_source, label=\"naive bound\")\n",
    "axs[0].plot(np.sort(z_cal), b_inf, label=\"our bound\")\n",
    "# axs[0].plot(np.sort(z_target), b_target, label=\"target bound\")\n",
    "axs[0].plot(np.sort(z_tar), np.arange(z_tar.shape[0])/z_tar.shape[0], label=\"empirical\")\n",
    "\n",
    "axs[1].plot(b_source, np.sort(z_source), label=\"naive bound\")\n",
    "axs[1].plot(b_inf, np.sort(z_cal), label=\"our bound\")\n",
    "# axs[1].plot(b_target, np.sort(z_target), label=\"target bound\")\n",
    "axs[1].plot(np.arange(z_tar.shape[0])/z_tar.shape[0], np.sort(z_tar), label=\"empirical\")\n",
    "\n",
    "axs[0].set_title(\"CDF\")\n",
    "axs[1].set_title(\"Inverse CDF\")\n",
    "\n",
    "for ax in axs:\n",
    "    ax.legend()\n",
    "\n",
    "plt.show()\n",
    "\n",
    "beta = 0.5\n",
    "\n",
    "unshift_bound = np.sort(z_source)[(b_source < beta).sum()]\n",
    "shift_bound = np.sort(z_cal)[(b_inf < beta).sum()]\n",
    "target_bound = np.sort(z_target)[(b_target < beta).sum()]\n",
    "emp_val = np.quantile(z_target, beta)\n",
    "\n",
    "print(\"Median bounds\")\n",
    "print(\"naive bound\", unshift_bound, \" | our bound\", shift_bound, \"| empirical\", emp_val)"
   ]
  },
  {
   "cell_type": "code",
   "execution_count": null,
   "id": "4759b0b0-0864-4d06-aed2-641f9c330191",
   "metadata": {},
   "outputs": [],
   "source": []
  }
 ],
 "metadata": {
  "kernelspec": {
   "display_name": "Python 3 (ipykernel)",
   "language": "python",
   "name": "python3"
  },
  "language_info": {
   "codemirror_mode": {
    "name": "ipython",
    "version": 3
   },
   "file_extension": ".py",
   "mimetype": "text/x-python",
   "name": "python",
   "nbconvert_exporter": "python",
   "pygments_lexer": "ipython3",
   "version": "3.10.12"
  }
 },
 "nbformat": 4,
 "nbformat_minor": 5
}
